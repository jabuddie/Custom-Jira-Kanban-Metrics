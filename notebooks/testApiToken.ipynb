{
 "cells": [
  {
   "cell_type": "code",
   "execution_count": 2,
   "id": "20ef49a1-29a9-47bc-b271-d7d918b07ae5",
   "metadata": {},
   "outputs": [
    {
     "name": "stdout",
     "output_type": "stream",
     "text": [
      "Status code: 401\n",
      "Body: Client must be authenticated to access this resource.\n"
     ]
    }
   ],
   "source": [
    "#test API call\n",
    "from requests.auth import HTTPBasicAuth\n",
    "import requests\n",
    "from dotenv import load_dotenv\n",
    "import os\n",
    "\n",
    "load_dotenv(override=True)\n",
    "\n",
    "EMAIL = \"@promega.com\"  # Replace if necessary\n",
    "TOKEN = os.getenv(\"JIRA_API_TOKEN\")\n",
    "auth = HTTPBasicAuth(EMAIL, TOKEN)\n",
    "\n",
    "url = \"https://promega.atlassian.net/rest/api/3/myself\"\n",
    "\n",
    "response = requests.get(url, auth=auth)\n",
    "\n",
    "print(\"Status code:\", response.status_code)\n",
    "print(\"Body:\", response.json() if response.ok else response.text)\n"
   ]
  },
  {
   "cell_type": "code",
   "execution_count": 4,
   "id": "3f890370-88d6-4324-ad8b-eb406db07a5c",
   "metadata": {},
   "outputs": [
    {
     "name": "stdout",
     "output_type": "stream",
     "text": [
      "Status: 400\n",
      "{\"errorMessages\":[\"The value 'ITNET' does not exist for the field 'project'.\"],\"warningMessages\":[]}\n"
     ]
    }
   ],
   "source": [
    "#sanity test jql call\n",
    "url = \"https://promega.atlassian.net/rest/api/3/search\"\n",
    "params = {\n",
    "    \"jql\": 'project = ITNET AND status = Done ORDER BY created DESC',\n",
    "    \"maxResults\": 5\n",
    "}\n",
    "response = requests.get(url, params=params, auth=auth)\n",
    "\n",
    "print(\"Status:\", response.status_code)\n",
    "print(response.json() if response.ok else response.text)\n"
   ]
  },
  {
   "cell_type": "code",
   "execution_count": null,
   "id": "c7330543-6956-4825-af90-11c02697718a",
   "metadata": {},
   "outputs": [],
   "source": []
  }
 ],
 "metadata": {
  "kernelspec": {
   "display_name": "Python 3 (ipykernel)",
   "language": "python",
   "name": "python3"
  },
  "language_info": {
   "codemirror_mode": {
    "name": "ipython",
    "version": 3
   },
   "file_extension": ".py",
   "mimetype": "text/x-python",
   "name": "python",
   "nbconvert_exporter": "python",
   "pygments_lexer": "ipython3",
   "version": "3.13.5"
  }
 },
 "nbformat": 4,
 "nbformat_minor": 5
}
